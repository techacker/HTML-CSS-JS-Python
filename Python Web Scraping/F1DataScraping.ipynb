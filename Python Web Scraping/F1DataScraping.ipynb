{
 "cells": [
  {
   "cell_type": "markdown",
   "metadata": {},
   "source": [
    "### Web Scraping Formula 1 Data from various sites\n",
    "#### URL: https://pitwall.app/\n",
    "#### URL: https://www.formula1.com/en/results.html/2023/races.html"
   ]
  },
  {
   "cell_type": "code",
   "execution_count": 2,
   "metadata": {},
   "outputs": [
    {
     "data": {
      "text/plain": [
       "'https://pitwall.app/seasons/2023-formula-1-world-championship'"
      ]
     },
     "execution_count": 2,
     "metadata": {},
     "output_type": "execute_result"
    }
   ],
   "source": [
    "year = '2023'\n",
    "urlstr = 'https://pitwall.app/seasons/{}-formula-1-world-championship'\n",
    "\n",
    "# Combine the URL with year\n",
    "url = urlstr.format(year)\n",
    "url"
   ]
  },
  {
   "cell_type": "code",
   "execution_count": 3,
   "metadata": {},
   "outputs": [
    {
     "name": "stdout",
     "output_type": "stream",
     "text": [
      "https://pitwall.app/seasons/2023-formula-1-world-championship\n",
      "https://pitwall.app/seasons/2022-formula-1-world-championship\n",
      "https://pitwall.app/seasons/2021-formula-1-world-championship\n",
      "https://pitwall.app/seasons/2020-formula-1-world-championship\n",
      "https://pitwall.app/seasons/2019-formula-1-world-championship\n"
     ]
    }
   ],
   "source": [
    "# Let's do it for 5 years\n",
    "years = ['2023', '2022', '2021', '2020', '2019']\n",
    "for y in years:\n",
    "    url = urlstr.format(y)\n",
    "    print(url)"
   ]
  },
  {
   "cell_type": "code",
   "execution_count": 4,
   "metadata": {},
   "outputs": [],
   "source": [
    "import pandas as pd"
   ]
  },
  {
   "cell_type": "code",
   "execution_count": 11,
   "metadata": {},
   "outputs": [
    {
     "data": {
      "text/plain": [
       "(22, 7)"
      ]
     },
     "execution_count": 11,
     "metadata": {},
     "output_type": "execute_result"
    }
   ],
   "source": [
    "# Using on 2023 data\n",
    "year = '2023'\n",
    "urlstr = 'https://pitwall.app/seasons/{}-formula-1-world-championship'\n",
    "\n",
    "# Combine the URL with year\n",
    "url = urlstr.format(year)\n",
    "url\n",
    "df = pd.read_html(url, header=0, na_values=None)\n",
    "df[0].shape             # Reading only 1st table with standings"
   ]
  },
  {
   "cell_type": "code",
   "execution_count": 29,
   "metadata": {},
   "outputs": [
    {
     "data": {
      "text/html": [
       "<div>\n",
       "<style scoped>\n",
       "    .dataframe tbody tr th:only-of-type {\n",
       "        vertical-align: middle;\n",
       "    }\n",
       "\n",
       "    .dataframe tbody tr th {\n",
       "        vertical-align: top;\n",
       "    }\n",
       "\n",
       "    .dataframe thead th {\n",
       "        text-align: right;\n",
       "    }\n",
       "</style>\n",
       "<table border=\"1\" class=\"dataframe\">\n",
       "  <thead>\n",
       "    <tr style=\"text-align: right;\">\n",
       "      <th></th>\n",
       "      <th>Pos</th>\n",
       "      <th>Driver</th>\n",
       "      <th>Car</th>\n",
       "      <th>Wins</th>\n",
       "      <th>Podiums</th>\n",
       "      <th>Pts</th>\n",
       "      <th>Gap</th>\n",
       "    </tr>\n",
       "  </thead>\n",
       "  <tbody>\n",
       "    <tr>\n",
       "      <th>0</th>\n",
       "      <td>1</td>\n",
       "      <td>#1  Max Verstappen</td>\n",
       "      <td>Red Bull</td>\n",
       "      <td>19.0</td>\n",
       "      <td>21.0</td>\n",
       "      <td>575</td>\n",
       "      <td>NaN</td>\n",
       "    </tr>\n",
       "    <tr>\n",
       "      <th>1</th>\n",
       "      <td>2</td>\n",
       "      <td>#11  Sergio PÃ©rez</td>\n",
       "      <td>Red Bull</td>\n",
       "      <td>2.0</td>\n",
       "      <td>9.0</td>\n",
       "      <td>285</td>\n",
       "      <td>-290.0</td>\n",
       "    </tr>\n",
       "    <tr>\n",
       "      <th>2</th>\n",
       "      <td>3</td>\n",
       "      <td>#44  Lewis Hamilton</td>\n",
       "      <td>Mercedes</td>\n",
       "      <td>NaN</td>\n",
       "      <td>6.0</td>\n",
       "      <td>234</td>\n",
       "      <td>-341.0</td>\n",
       "    </tr>\n",
       "    <tr>\n",
       "      <th>3</th>\n",
       "      <td>4</td>\n",
       "      <td>#14  Fernando Alonso</td>\n",
       "      <td>Aston Martin</td>\n",
       "      <td>NaN</td>\n",
       "      <td>8.0</td>\n",
       "      <td>206</td>\n",
       "      <td>-369.0</td>\n",
       "    </tr>\n",
       "    <tr>\n",
       "      <th>4</th>\n",
       "      <td>5</td>\n",
       "      <td>#16  Charles Leclerc</td>\n",
       "      <td>Ferrari</td>\n",
       "      <td>NaN</td>\n",
       "      <td>6.0</td>\n",
       "      <td>206</td>\n",
       "      <td>-369.0</td>\n",
       "    </tr>\n",
       "  </tbody>\n",
       "</table>\n",
       "</div>"
      ],
      "text/plain": [
       "   Pos                Driver           Car  Wins  Podiums  Pts    Gap\n",
       "0    1    #1  Max Verstappen      Red Bull  19.0     21.0  575    NaN\n",
       "1    2    #11  Sergio PÃ©rez      Red Bull   2.0      9.0  285 -290.0\n",
       "2    3   #44  Lewis Hamilton      Mercedes   NaN      6.0  234 -341.0\n",
       "3    4  #14  Fernando Alonso  Aston Martin   NaN      8.0  206 -369.0\n",
       "4    5  #16  Charles Leclerc       Ferrari   NaN      6.0  206 -369.0"
      ]
     },
     "execution_count": 29,
     "metadata": {},
     "output_type": "execute_result"
    }
   ],
   "source": [
    "df2023 = df[0]\n",
    "df2023.head()"
   ]
  },
  {
   "cell_type": "code",
   "execution_count": 30,
   "metadata": {},
   "outputs": [],
   "source": [
    "# Export the data to csv\n",
    "df2023.to_csv('F1 2023 Standings.csv', index=False)"
   ]
  },
  {
   "cell_type": "code",
   "execution_count": 18,
   "metadata": {},
   "outputs": [
    {
     "data": {
      "text/plain": [
       "'https://www.formula1.com/en/results.html/2023/drivers.html'"
      ]
     },
     "execution_count": 18,
     "metadata": {},
     "output_type": "execute_result"
    }
   ],
   "source": [
    "# Using the data directly from F1 site\n",
    "year = '2023'\n",
    "f1url = 'https://www.formula1.com/en/results.html/{}/drivers.html'\n",
    "urlF1 = f1url.format(year)\n",
    "urlF1\n"
   ]
  },
  {
   "cell_type": "code",
   "execution_count": 20,
   "metadata": {},
   "outputs": [
    {
     "data": {
      "text/plain": [
       "(22, 7)"
      ]
     },
     "execution_count": 20,
     "metadata": {},
     "output_type": "execute_result"
    }
   ],
   "source": [
    "dfF12023 = pd.read_html(urlF1, header=0)\n",
    "dfF12023[0].shape"
   ]
  },
  {
   "cell_type": "code",
   "execution_count": 27,
   "metadata": {},
   "outputs": [
    {
     "data": {
      "text/plain": [
       "Unnamed: 0     float64\n",
       "Pos              int64\n",
       "Driver          object\n",
       "Nationality     object\n",
       "Car             object\n",
       "PTS              int64\n",
       "Unnamed: 6     float64\n",
       "dtype: object"
      ]
     },
     "execution_count": 27,
     "metadata": {},
     "output_type": "execute_result"
    }
   ],
   "source": [
    "dfF12023[0].dtypes"
   ]
  },
  {
   "cell_type": "code",
   "execution_count": 28,
   "metadata": {},
   "outputs": [
    {
     "data": {
      "text/html": [
       "<div>\n",
       "<style scoped>\n",
       "    .dataframe tbody tr th:only-of-type {\n",
       "        vertical-align: middle;\n",
       "    }\n",
       "\n",
       "    .dataframe tbody tr th {\n",
       "        vertical-align: top;\n",
       "    }\n",
       "\n",
       "    .dataframe thead th {\n",
       "        text-align: right;\n",
       "    }\n",
       "</style>\n",
       "<table border=\"1\" class=\"dataframe\">\n",
       "  <thead>\n",
       "    <tr style=\"text-align: right;\">\n",
       "      <th></th>\n",
       "      <th>Unnamed: 0</th>\n",
       "      <th>Pos</th>\n",
       "      <th>Driver</th>\n",
       "      <th>Nationality</th>\n",
       "      <th>Car</th>\n",
       "      <th>PTS</th>\n",
       "      <th>Unnamed: 6</th>\n",
       "    </tr>\n",
       "  </thead>\n",
       "  <tbody>\n",
       "    <tr>\n",
       "      <th>0</th>\n",
       "      <td>NaN</td>\n",
       "      <td>1</td>\n",
       "      <td>Max  Verstappen  VER</td>\n",
       "      <td>NED</td>\n",
       "      <td>Red Bull Racing Honda RBPT</td>\n",
       "      <td>575</td>\n",
       "      <td>NaN</td>\n",
       "    </tr>\n",
       "    <tr>\n",
       "      <th>1</th>\n",
       "      <td>NaN</td>\n",
       "      <td>2</td>\n",
       "      <td>Sergio  Perez  PER</td>\n",
       "      <td>MEX</td>\n",
       "      <td>Red Bull Racing Honda RBPT</td>\n",
       "      <td>285</td>\n",
       "      <td>NaN</td>\n",
       "    </tr>\n",
       "    <tr>\n",
       "      <th>2</th>\n",
       "      <td>NaN</td>\n",
       "      <td>3</td>\n",
       "      <td>Lewis  Hamilton  HAM</td>\n",
       "      <td>GBR</td>\n",
       "      <td>Mercedes</td>\n",
       "      <td>234</td>\n",
       "      <td>NaN</td>\n",
       "    </tr>\n",
       "    <tr>\n",
       "      <th>3</th>\n",
       "      <td>NaN</td>\n",
       "      <td>4</td>\n",
       "      <td>Fernando  Alonso  ALO</td>\n",
       "      <td>ESP</td>\n",
       "      <td>Aston Martin Aramco Mercedes</td>\n",
       "      <td>206</td>\n",
       "      <td>NaN</td>\n",
       "    </tr>\n",
       "    <tr>\n",
       "      <th>4</th>\n",
       "      <td>NaN</td>\n",
       "      <td>5</td>\n",
       "      <td>Charles  Leclerc  LEC</td>\n",
       "      <td>MON</td>\n",
       "      <td>Ferrari</td>\n",
       "      <td>206</td>\n",
       "      <td>NaN</td>\n",
       "    </tr>\n",
       "  </tbody>\n",
       "</table>\n",
       "</div>"
      ],
      "text/plain": [
       "   Unnamed: 0  Pos                 Driver Nationality  \\\n",
       "0         NaN    1   Max  Verstappen  VER         NED   \n",
       "1         NaN    2     Sergio  Perez  PER         MEX   \n",
       "2         NaN    3   Lewis  Hamilton  HAM         GBR   \n",
       "3         NaN    4  Fernando  Alonso  ALO         ESP   \n",
       "4         NaN    5  Charles  Leclerc  LEC         MON   \n",
       "\n",
       "                            Car  PTS  Unnamed: 6  \n",
       "0    Red Bull Racing Honda RBPT  575         NaN  \n",
       "1    Red Bull Racing Honda RBPT  285         NaN  \n",
       "2                      Mercedes  234         NaN  \n",
       "3  Aston Martin Aramco Mercedes  206         NaN  \n",
       "4                       Ferrari  206         NaN  "
      ]
     },
     "execution_count": 28,
     "metadata": {},
     "output_type": "execute_result"
    }
   ],
   "source": [
    "dfF12023[0].head()"
   ]
  }
 ],
 "metadata": {
  "kernelspec": {
   "display_name": "Python 3",
   "language": "python",
   "name": "python3"
  },
  "language_info": {
   "codemirror_mode": {
    "name": "ipython",
    "version": 3
   },
   "file_extension": ".py",
   "mimetype": "text/x-python",
   "name": "python",
   "nbconvert_exporter": "python",
   "pygments_lexer": "ipython3",
   "version": "3.12.1"
  }
 },
 "nbformat": 4,
 "nbformat_minor": 2
}
